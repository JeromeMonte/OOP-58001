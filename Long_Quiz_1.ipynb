{
  "nbformat": 4,
  "nbformat_minor": 0,
  "metadata": {
    "colab": {
      "name": "Long Quiz 1",
      "provenance": [],
      "authorship_tag": "ABX9TyPuSTGQLR6iLUYhj6nLGyGV",
      "include_colab_link": true
    },
    "kernelspec": {
      "name": "python3",
      "display_name": "Python 3"
    },
    "language_info": {
      "name": "python"
    }
  },
  "cells": [
    {
      "cell_type": "markdown",
      "metadata": {
        "id": "view-in-github",
        "colab_type": "text"
      },
      "source": [
        "<a href=\"https://colab.research.google.com/github/momonts/OOP-58001/blob/main/Long_Quiz_1.ipynb\" target=\"_parent\"><img src=\"https://colab.research.google.com/assets/colab-badge.svg\" alt=\"Open In Colab\"/></a>"
      ]
    },
    {
      "cell_type": "code",
      "execution_count": 14,
      "metadata": {
        "colab": {
          "base_uri": "https://localhost:8080/"
        },
        "id": "8OqLxw8UEskz",
        "outputId": "7c019d69-1df1-4795-d50f-f0d171799f08"
      },
      "outputs": [
        {
          "output_type": "stream",
          "name": "stdout",
          "text": [
            "Radius of the circle : 7\n",
            "Area :  153.94\n",
            "Perimeter :  43.98\n"
          ]
        }
      ],
      "source": [
        "import math\n",
        "\n",
        "class circle():\n",
        "  \n",
        "  def __init__(self, radius):\n",
        "    self.radius = radius\n",
        "\n",
        "  def area(self):\n",
        "    return math.pi*(self.radius**2)\n",
        "\n",
        "  def perimeter(self):\n",
        "    return 2*math.pi*self.radius\n",
        "\n",
        "r = float(input(\"Radius of the circle : \"))\n",
        "\n",
        "obj = circle(r)\n",
        "\n",
        "print(\"Area : \", round(obj.area(),2))\n",
        "print(\"Perimeter : \", round(obj.perimeter(),2))"
      ]
    }
  ]
}