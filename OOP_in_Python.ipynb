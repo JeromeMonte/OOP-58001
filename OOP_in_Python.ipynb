{
  "nbformat": 4,
  "nbformat_minor": 0,
  "metadata": {
    "colab": {
      "name": "OOP in Python",
      "provenance": [],
      "authorship_tag": "ABX9TyOPAKsao6tclas1iyacCerx",
      "include_colab_link": true
    },
    "kernelspec": {
      "name": "python3",
      "display_name": "Python 3"
    },
    "language_info": {
      "name": "python"
    }
  },
  "cells": [
    {
      "cell_type": "markdown",
      "metadata": {
        "id": "view-in-github",
        "colab_type": "text"
      },
      "source": [
        "<a href=\"https://colab.research.google.com/github/momonts/OOP-58001/blob/main/OOP_in_Python.ipynb\" target=\"_parent\"><img src=\"https://colab.research.google.com/assets/colab-badge.svg\" alt=\"Open In Colab\"/></a>"
      ]
    },
    {
      "cell_type": "code",
      "execution_count": 30,
      "metadata": {
        "colab": {
          "base_uri": "https://localhost:8080/"
        },
        "id": "gSHMbGQO4gpy",
        "outputId": "32fd12d3-6d1b-4950-f9a3-fdbacf8fa026"
      },
      "outputs": [
        {
          "output_type": "stream",
          "name": "stdout",
          "text": [
            "OOP_58001 \n",
            " Stduent No: 202117435 \n",
            " Surname: Monte \n",
            " First Name: Jerome\n"
          ]
        }
      ],
      "source": [
        "class OOP_58001:\n",
        "\n",
        "  def __init__(self, section, student_no, surname, first_name):\n",
        "    self.section = section\n",
        "    self.student_no = student_no\n",
        "    self.surname = surname\n",
        "    self.first_name = first_name\n",
        "\n",
        "jerome = OOP_58001(\"OOP_58001\", 202117435, \"Monte\", \"Jerome\")\n",
        "\n",
        "#print\n",
        "print(\"{} \\n Stduent No: {} \\n Surname: {} \\n First Name: {}\".format(jerome.section, jerome.student_no, jerome.surname, jerome.first_name))"
      ]
    }
  ]
}