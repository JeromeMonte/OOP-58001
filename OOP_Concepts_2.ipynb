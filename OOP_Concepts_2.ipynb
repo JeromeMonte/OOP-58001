{
  "nbformat": 4,
  "nbformat_minor": 0,
  "metadata": {
    "colab": {
      "name": "OOP Concepts_2",
      "provenance": [],
      "authorship_tag": "ABX9TyOIwAbMs7Ng3x2xTXWAkBAO",
      "include_colab_link": true
    },
    "kernelspec": {
      "name": "python3",
      "display_name": "Python 3"
    },
    "language_info": {
      "name": "python"
    }
  },
  "cells": [
    {
      "cell_type": "markdown",
      "metadata": {
        "id": "view-in-github",
        "colab_type": "text"
      },
      "source": [
        "<a href=\"https://colab.research.google.com/github/momonts/OOP-58001/blob/main/OOP_Concepts_2.ipynb\" target=\"_parent\"><img src=\"https://colab.research.google.com/assets/colab-badge.svg\" alt=\"Open In Colab\"/></a>"
      ]
    },
    {
      "cell_type": "markdown",
      "source": [
        "Classes with multiple objects"
      ],
      "metadata": {
        "id": "Rm_i3relHTzo"
      }
    },
    {
      "cell_type": "code",
      "source": [
        "class Birds:\n",
        "  def __init__(self, bird_name):\n",
        "    self.bird_name = bird_name\n",
        "  def flying_birds(self):\n",
        "    print(f\"{self.bird_name} flies above clouds.\")\n",
        "  def non_flying_birds(self):\n",
        "    print(f\"{self.bird_name} is the national bird of the Philippines.\")\n",
        "\n",
        "vulture = Birds(\"Griffon Vulture\")\n",
        "crane = Birds(\"Common Crane\")\n",
        "emu = Birds(\"Emu\")\n",
        "\n",
        "vulture.flying_birds()\n",
        "crane.flying_birds()\n",
        "emu.non_flying_birds()"
      ],
      "metadata": {
        "colab": {
          "base_uri": "https://localhost:8080/"
        },
        "id": "63k5mNrtHAhG",
        "outputId": "a7991f5c-0628-4959-ab6d-4267a7016b38"
      },
      "execution_count": null,
      "outputs": [
        {
          "output_type": "stream",
          "name": "stdout",
          "text": [
            "Griffon Vulture flies above clouds.\n",
            "Common Crane flies above clouds.\n",
            "Emu is the national bird of the Philippines.\n"
          ]
        }
      ]
    },
    {
      "cell_type": "markdown",
      "source": [
        "Encapsulation"
      ],
      "metadata": {
        "id": "hOTpFJykHXvJ"
      }
    },
    {
      "cell_type": "code",
      "source": [
        "class foo:\n",
        "  def __init__(self,a,b):\n",
        "    self.a = a\n",
        "    self.b = b\n",
        "  def add(self):\n",
        "    return self.a + self.b\n",
        "\n",
        "foo_object = foo(1,5)\n",
        "foo_object.add()"
      ],
      "metadata": {
        "colab": {
          "base_uri": "https://localhost:8080/"
        },
        "id": "EGdkUnKbHB08",
        "outputId": "e9eee8b8-b8b1-4b9d-f98c-575b7e096205"
      },
      "execution_count": null,
      "outputs": [
        {
          "output_type": "execute_result",
          "data": {
            "text/plain": [
              "6"
            ]
          },
          "metadata": {},
          "execution_count": 39
        }
      ]
    },
    {
      "cell_type": "code",
      "source": [
        "class foo:\n",
        "  def __init__(self,c,d):\n",
        "    self.c = c\n",
        "    self.d = d\n",
        "  def add(self):\n",
        "    return self.c + self.d\n",
        "\n",
        "foo_object = foo(3,4)\n",
        "foo_object.add()\n",
        "\n",
        "foo_object.c = 6\n",
        "foo_object.add()"
      ],
      "metadata": {
        "colab": {
          "base_uri": "https://localhost:8080/"
        },
        "id": "-8MYqglTHFtJ",
        "outputId": "b6806c97-023f-4813-db0e-efc053d279df"
      },
      "execution_count": null,
      "outputs": [
        {
          "output_type": "execute_result",
          "data": {
            "text/plain": [
              "10"
            ]
          },
          "metadata": {},
          "execution_count": 6
        }
      ]
    },
    {
      "cell_type": "code",
      "execution_count": null,
      "metadata": {
        "id": "gMuzG5I649dO"
      },
      "outputs": [],
      "source": [
        "class Counter:\n",
        "    def __init__(self):\n",
        "        self.current = 0\n",
        "\n",
        "    def increment(self):\n",
        "        self.current += 1\n",
        "\n",
        "    def value(self):\n",
        "        return self.current\n",
        "\n",
        "    def reset(self):\n",
        "        self.current = 0\n",
        "\n",
        "counter = Counter()\n",
        "\n",
        "counter.increment()\n",
        "counter.increment()\n",
        "counter.increment()\n",
        "\n",
        "#print(counter.value())\n",
        "#print(counter.reset())"
      ]
    },
    {
      "cell_type": "markdown",
      "source": [
        "Inheritance"
      ],
      "metadata": {
        "id": "egts5vV-HdsL"
      }
    },
    {
      "cell_type": "code",
      "source": [
        "class Person:\n",
        "  def __init__(self,fname,sname):\n",
        "    self.fname = fname\n",
        "    self.sname = sname\n",
        "  def printname(self):\n",
        "    print(self.fname,self.sname)\n",
        "\n",
        "x = Person(\"Maria\", \"Sayo\")\n",
        "x.printname()\n",
        "\n",
        "class Teacher(Person):\n",
        "  pass\n",
        "\n",
        "x = Teacher(\"Rizette\", \"Sayo\")\n",
        "x.printname()"
      ],
      "metadata": {
        "colab": {
          "base_uri": "https://localhost:8080/"
        },
        "id": "nBzyVDxCHN4Z",
        "outputId": "0a824db1-0ebc-4d26-c80d-71f308f37908"
      },
      "execution_count": null,
      "outputs": [
        {
          "output_type": "stream",
          "name": "stdout",
          "text": [
            "Maria Sayo\n",
            "Rizette Sayo\n"
          ]
        }
      ]
    },
    {
      "cell_type": "markdown",
      "source": [
        "Polymorphism"
      ],
      "metadata": {
        "id": "9lTAjelvHgFZ"
      }
    },
    {
      "cell_type": "code",
      "source": [
        "class RegularPolygon:\n",
        "    def __init__(self, side):\n",
        "        self._side = side\n",
        "class Square(RegularPolygon):\n",
        "    def area(self):\n",
        "        return self._side * self._side\n",
        "class EquilateralTriangle(RegularPolygon):\n",
        "    def area(self):\n",
        "        return self._side * self._side * 0.433\n",
        "\n",
        "obj1 = Square(4)\n",
        "obj2 = EquilateralTriangle(3)\n",
        "\n",
        "print(obj1.area())\n",
        "print(obj2.area())"
      ],
      "metadata": {
        "colab": {
          "base_uri": "https://localhost:8080/"
        },
        "id": "Lx2n2NVvFdTk",
        "outputId": "c01d584b-e2be-4d48-8b58-730c0e77a581"
      },
      "execution_count": null,
      "outputs": [
        {
          "output_type": "stream",
          "name": "stdout",
          "text": [
            "16\n",
            "3.897\n"
          ]
        }
      ]
    },
    {
      "cell_type": "markdown",
      "source": [
        "1. Create a python program that displays the name of three students (Student 1, Student 2, Student 3) and their term grades\n",
        "2. Create a class name person and attribute - std1, std2, std3, pre, mid, fin\n",
        "3. Compute the average of each term grade using Grade() method\n",
        "4. Information about students' grades must be hidden from others\n",
        "\n",
        "Semestral Grade:\n",
        "Prelim = 30%, Midterm = 30%, Final = 40%"
      ],
      "metadata": {
        "id": "htGUiFjB6M99"
      }
    },
    {
      "cell_type": "code",
      "source": [
        "print(\"Choose a student : \")\n",
        "print(\"1) Jerome \\n2) Alexandra \\n3) Pikachu\")\n",
        "print(\"\\nInput : \")\n",
        "x = input()\n",
        "\n",
        "if x == \"1\":\n",
        "  class person:\n",
        "    def __init__(self):\n",
        "      self.std = \"\\nJerome\"\n",
        "      self.pre = 75\n",
        "      self.mid = 75\n",
        "      self.fin = 75\n",
        "\n",
        "    def grade(self):\n",
        "      return self.pre*0.30 + self.mid*0.30 + self.fin*0.40\n",
        "\n",
        "elif x == \"2\":\n",
        "  class person:\n",
        "    def __init__(self):\n",
        "      self.std = \"\\nAlexandra\"\n",
        "      self.pre = 80\n",
        "      self.mid = 80\n",
        "      self.fin = 80\n",
        "\n",
        "    def grade(self):\n",
        "      return self.pre*0.30 + self.mid*0.30 + self.fin*0.40\n",
        "\n",
        "elif x == \"3\":\n",
        "  class person:\n",
        "    def __init__(self):\n",
        "      self.std = \"\\nPikachu\"\n",
        "      self.pre = 90\n",
        "      self.mid = 90\n",
        "      self.fin = 90\n",
        "\n",
        "    def grade(self):\n",
        "     return self.pre*0.30 + self.mid*0.30 + self.fin*0.40\n",
        "\n",
        "ob = person()\n",
        "print(ob.std)\n",
        "print(\"\\n\\nPrelim : \",ob.pre)\n",
        "print(\"Midterm : \",ob.pre)\n",
        "print(\"Final : \",ob.pre)\n",
        "print(\"\\nGrade : \",ob.grade())"
      ],
      "metadata": {
        "colab": {
          "base_uri": "https://localhost:8080/"
        },
        "id": "WnoMpGUK6D1u",
        "outputId": "43cae35c-a220-4a07-ba29-e3f9b19e91f2"
      },
      "execution_count": null,
      "outputs": [
        {
          "output_type": "stream",
          "name": "stdout",
          "text": [
            "Choose a student : \n",
            "1) Jerome \n",
            "2) Alexandra \n",
            "3) Pikachu\n",
            "\n",
            "Input : \n",
            "1\n",
            "\n",
            "Jerome\n",
            "\n",
            "\n",
            "Prelim :  75\n",
            "Midterm :  75\n",
            "Final :  75\n",
            "\n",
            "Grade :  75.0\n"
          ]
        }
      ]
    }
  ]
}