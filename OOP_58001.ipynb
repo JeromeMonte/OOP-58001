{
  "nbformat": 4,
  "nbformat_minor": 0,
  "metadata": {
    "colab": {
      "name": "OOP-58001.ipynb",
      "provenance": [],
      "authorship_tag": "ABX9TyOz8UxcH4e1LmKkcqZLUknr",
      "include_colab_link": true
    },
    "kernelspec": {
      "name": "python3",
      "display_name": "Python 3"
    },
    "language_info": {
      "name": "python"
    }
  },
  "cells": [
    {
      "cell_type": "markdown",
      "metadata": {
        "id": "view-in-github",
        "colab_type": "text"
      },
      "source": [
        "<a href=\"https://colab.research.google.com/github/momonts/OOP-58001/blob/main/OOP_58001.ipynb\" target=\"_parent\"><img src=\"https://colab.research.google.com/assets/colab-badge.svg\" alt=\"Open In Colab\"/></a>"
      ]
    },
    {
      "cell_type": "code",
      "source": [
        "from gtts import gTTS\n",
        "import os\n",
        "mytext = \"hello\""
      ],
      "metadata": {
        "id": "U9MQ-TI8lOdH"
      },
      "execution_count": null,
      "outputs": []
    }
  ]
}