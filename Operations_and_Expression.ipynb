{
  "nbformat": 4,
  "nbformat_minor": 0,
  "metadata": {
    "colab": {
      "name": "Operations and Expression",
      "provenance": [],
      "collapsed_sections": [],
      "authorship_tag": "ABX9TyO7WXb9603+cpsOlqOmybuP",
      "include_colab_link": true
    },
    "kernelspec": {
      "name": "python3",
      "display_name": "Python 3"
    },
    "language_info": {
      "name": "python"
    }
  },
  "cells": [
    {
      "cell_type": "markdown",
      "metadata": {
        "id": "view-in-github",
        "colab_type": "text"
      },
      "source": [
        "<a href=\"https://colab.research.google.com/github/momonts/OOP-58001/blob/main/Operations_and_Expression.ipynb\" target=\"_parent\"><img src=\"https://colab.research.google.com/assets/colab-badge.svg\" alt=\"Open In Colab\"/></a>"
      ]
    },
    {
      "cell_type": "code",
      "source": [
        "#Boolean Operators\n",
        "\n",
        "print(10>9)\n",
        "print(10<9)\n",
        "print(10==9)\n",
        "print(10!=9)"
      ],
      "metadata": {
        "id": "U9MQ-TI8lOdH",
        "colab": {
          "base_uri": "https://localhost:8080/"
        },
        "outputId": "64012691-417f-4866-f6d7-3cc0c2c8176e"
      },
      "execution_count": null,
      "outputs": [
        {
          "output_type": "stream",
          "name": "stdout",
          "text": [
            "True\n",
            "False\n",
            "False\n",
            "True\n"
          ]
        }
      ]
    },
    {
      "cell_type": "code",
      "source": [
        "#Functions can return a Boolean\n",
        "\n",
        "def myFunction():\n",
        "  return True\n",
        "\n",
        "print(myFunction())"
      ],
      "metadata": {
        "colab": {
          "base_uri": "https://localhost:8080/"
        },
        "id": "Q4z9Ni3brX84",
        "outputId": "d4d7770a-7290-48f0-8648-340274d1b341"
      },
      "execution_count": null,
      "outputs": [
        {
          "output_type": "stream",
          "name": "stdout",
          "text": [
            "True\n"
          ]
        }
      ]
    },
    {
      "cell_type": "code",
      "source": [
        "if myFunction():\n",
        "  print(\"Yes!\")\n",
        "  \n",
        "else:\n",
        "    print(\"No!\")"
      ],
      "metadata": {
        "colab": {
          "base_uri": "https://localhost:8080/"
        },
        "id": "WKQsWfHzrrBx",
        "outputId": "2d79ae3d-9d23-44ad-bcf4-fd8d364cfb69"
      },
      "execution_count": null,
      "outputs": [
        {
          "output_type": "stream",
          "name": "stdout",
          "text": [
            "Yes!\n"
          ]
        }
      ]
    },
    {
      "cell_type": "code",
      "source": [
        "#Application no.1\n",
        "\n",
        "print(10>9)\n",
        "\n",
        "a = 60\n",
        "b = 13\n",
        "\n",
        "print(a==b)\n",
        "print(a!=b)"
      ],
      "metadata": {
        "colab": {
          "base_uri": "https://localhost:8080/"
        },
        "id": "8I_E8kHpsAjf",
        "outputId": "85dbd396-33a5-4391-dab6-f5e3766d5420"
      },
      "execution_count": null,
      "outputs": [
        {
          "output_type": "stream",
          "name": "stdout",
          "text": [
            "True\n",
            "False\n",
            "True\n"
          ]
        }
      ]
    },
    {
      "cell_type": "code",
      "source": [
        "#Python Operators\n",
        "\n",
        "print(10 + 3)\n",
        "print(10 - 3)\n",
        "print(10 * 3)\n",
        "print(10 / 3)\n",
        "print(10 % 3)\n",
        "print(10 // 3)"
      ],
      "metadata": {
        "colab": {
          "base_uri": "https://localhost:8080/"
        },
        "id": "hwoK9nfEsTJ3",
        "outputId": "228078fb-fe0d-45fc-8872-96164ee88715"
      },
      "execution_count": null,
      "outputs": [
        {
          "output_type": "stream",
          "name": "stdout",
          "text": [
            "13\n",
            "7\n",
            "30\n",
            "3.3333333333333335\n",
            "1\n",
            "3\n"
          ]
        }
      ]
    },
    {
      "cell_type": "code",
      "source": [
        "#Bitwise Operators\n",
        "\n",
        "#a = 60, binary: 0011 1100\n",
        "#b = 13, binary: 0000 1101\n",
        "\n",
        "print(a & b)\n",
        "print(a | b)\n",
        "print(a ^ b)\n",
        "print(a << b)\n",
        "print(a >> b)"
      ],
      "metadata": {
        "colab": {
          "base_uri": "https://localhost:8080/"
        },
        "id": "qkDTSosxtKr7",
        "outputId": "19903e23-b6e6-4f8a-da5f-16672c51dcac"
      },
      "execution_count": null,
      "outputs": [
        {
          "output_type": "stream",
          "name": "stdout",
          "text": [
            "12\n",
            "61\n",
            "49\n",
            "491520\n",
            "0\n"
          ]
        }
      ]
    },
    {
      "cell_type": "code",
      "source": [
        "#Application no.2\n",
        "\n",
        "#Assignment Operators\n",
        "\n",
        "     #Intepretation:\n",
        "a+=3  #a = a + 3\n",
        "a-=3  #a = a - 3\n",
        "a*=3  #a = a * 3\n",
        "a/=3  #a = a / 3\n",
        "a%=3  #a = a % 3"
      ],
      "metadata": {
        "id": "Z_BAUYaNuC2z"
      },
      "execution_count": null,
      "outputs": []
    },
    {
      "cell_type": "code",
      "source": [
        "#Logical Operators\n",
        "\n",
        "k = True\n",
        "l = False\n",
        "\n",
        "print(k and l)\n",
        "print(k or l)\n",
        "print(not(k or l))"
      ],
      "metadata": {
        "colab": {
          "base_uri": "https://localhost:8080/"
        },
        "id": "sAoRz91Iu3M0",
        "outputId": "b6f16729-68eb-45c6-dfb6-a29bf36e1e43"
      },
      "execution_count": null,
      "outputs": [
        {
          "output_type": "stream",
          "name": "stdout",
          "text": [
            "False\n",
            "True\n",
            "False\n"
          ]
        }
      ]
    },
    {
      "cell_type": "code",
      "source": [
        "#Identity Operators\n",
        "\n",
        "print(k is l)\n",
        "print(k is not l)"
      ],
      "metadata": {
        "colab": {
          "base_uri": "https://localhost:8080/"
        },
        "id": "nhl1lt47vWPB",
        "outputId": "c1a97b18-e8a7-4469-ee15-0d612f9f11d7"
      },
      "execution_count": null,
      "outputs": [
        {
          "output_type": "stream",
          "name": "stdout",
          "text": [
            "False\n",
            "True\n"
          ]
        }
      ]
    },
    {
      "cell_type": "code",
      "source": [
        "#CONTROL STRUCTURE\n",
        "\n",
        "#if statement\n",
        "\n",
        "v = 1\n",
        "z = 2\n",
        "\n",
        "if v<z:\n",
        "  print(\"v iss less than z\")"
      ],
      "metadata": {
        "colab": {
          "base_uri": "https://localhost:8080/"
        },
        "id": "wcQ3YXp4vmwJ",
        "outputId": "cadce036-19e1-4351-b83c-39b0ec42466c"
      },
      "execution_count": null,
      "outputs": [
        {
          "output_type": "stream",
          "name": "stdout",
          "text": [
            "v iss less than z\n"
          ]
        }
      ]
    },
    {
      "cell_type": "code",
      "source": [
        "#elif statement\n",
        "\n",
        "if v<z:\n",
        "  print(\"v is less than z\")\n",
        "\n",
        "elif v!=z:\n",
        "  print(\"v is not z\")"
      ],
      "metadata": {
        "colab": {
          "base_uri": "https://localhost:8080/"
        },
        "id": "Jn27jzu2v5ba",
        "outputId": "20108baa-c09f-4d0f-b1f5-9d51e6d57258"
      },
      "execution_count": null,
      "outputs": [
        {
          "output_type": "stream",
          "name": "stdout",
          "text": [
            "v is less than z\n"
          ]
        }
      ]
    },
    {
      "cell_type": "code",
      "source": [
        "#else statement\n",
        "\n",
        "number = int(input())\n",
        "\n",
        "if number>0:\n",
        "  print(\"Positive\")\n",
        "\n",
        "elif number<0:\n",
        "  print(\"Negative\")\n",
        "\n",
        "else:\n",
        "  print(\"Number is equal to zero\")"
      ],
      "metadata": {
        "colab": {
          "base_uri": "https://localhost:8080/"
        },
        "id": "2Ix4g1u_wISB",
        "outputId": "1ec7c0ae-7d39-48ac-c8cf-2b5958706790"
      },
      "execution_count": null,
      "outputs": [
        {
          "output_type": "stream",
          "name": "stdout",
          "text": [
            "4\n",
            "Positive\n"
          ]
        }
      ]
    },
    {
      "cell_type": "code",
      "source": [
        "#Application 3: Develop a Python program that will accept if a person is entitled to vote or not\n",
        "\n",
        "age = int(input())\n",
        "\n",
        "if age >= 18:\n",
        "  print(\"You are entitled to vote\")\n",
        "\n",
        "else:\n",
        "  print(\"You are not entitled to vote\")"
      ],
      "metadata": {
        "colab": {
          "base_uri": "https://localhost:8080/"
        },
        "id": "pC33PiKIwrgT",
        "outputId": "c2ca42c0-8c60-49cd-e20c-50ddb59c62d7"
      },
      "execution_count": null,
      "outputs": [
        {
          "output_type": "stream",
          "name": "stdout",
          "text": [
            "19\n",
            "You are entitled to vote\n"
          ]
        }
      ]
    },
    {
      "cell_type": "code",
      "source": [
        "#Nested if...else\n",
        "\n",
        "u = int(input())\n",
        "if u>10:\n",
        "  print(\"u is above 10\")\n",
        "  if u>20:\n",
        "    print(\"u is above 20\")\n",
        "    if u>30:\n",
        "      print(\"u is above 30\")\n",
        "      if u>40:\n",
        "        print(\"u is above 40\")\n",
        "        if u>50:\n",
        "          print(\"u is above 50\")\n",
        "\n",
        "else:\n",
        "  print(\"u is below 50\")"
      ],
      "metadata": {
        "colab": {
          "base_uri": "https://localhost:8080/"
        },
        "id": "tqK36XkKxMEk",
        "outputId": "846cdc86-f3a6-4672-ff6f-4e7eded86f52"
      },
      "execution_count": null,
      "outputs": [
        {
          "output_type": "stream",
          "name": "stdout",
          "text": [
            "1\n",
            "u is below 50\n"
          ]
        }
      ]
    },
    {
      "cell_type": "code",
      "source": [
        "#LOOP STRUCTURE\n",
        "\n",
        "week = ['Sun', 'Mon', 'Tue', 'Wed', 'Thurs', 'Fri', 'Sat']\n",
        "season = ['Rainy', 'Sunny', 'Cloudy']\n",
        "\n",
        "for x in week:\n",
        "  for y in season:\n",
        "    print(y, x)"
      ],
      "metadata": {
        "colab": {
          "base_uri": "https://localhost:8080/"
        },
        "id": "ULxo9CiJx19Z",
        "outputId": "851317b1-ee96-42ca-da42-752e227d5f3c"
      },
      "execution_count": null,
      "outputs": [
        {
          "output_type": "stream",
          "name": "stdout",
          "text": [
            "Rainy Sun\n",
            "Sunny Sun\n",
            "Cloudy Sun\n",
            "Rainy Mon\n",
            "Sunny Mon\n",
            "Cloudy Mon\n",
            "Rainy Tue\n",
            "Sunny Tue\n",
            "Cloudy Tue\n",
            "Rainy Wed\n",
            "Sunny Wed\n",
            "Cloudy Wed\n",
            "Rainy Thurs\n",
            "Sunny Thurs\n",
            "Cloudy Thurs\n",
            "Rainy Fri\n",
            "Sunny Fri\n",
            "Cloudy Fri\n",
            "Rainy Sat\n",
            "Sunny Sat\n",
            "Cloudy Sat\n"
          ]
        }
      ]
    },
    {
      "cell_type": "code",
      "source": [
        "for x in week:\n",
        "  print(x)\n",
        "\n",
        "  if x == 'Thurs':\n",
        "    break"
      ],
      "metadata": {
        "colab": {
          "base_uri": "https://localhost:8080/"
        },
        "id": "HWfIp2YMyaC9",
        "outputId": "2bc3dda1-eef1-4c17-f816-638b5af0fa8c"
      },
      "execution_count": null,
      "outputs": [
        {
          "output_type": "stream",
          "name": "stdout",
          "text": [
            "Sun\n",
            "Mon\n",
            "Tue\n",
            "Wed\n",
            "Thurs\n"
          ]
        }
      ]
    },
    {
      "cell_type": "code",
      "source": [
        "#While loop\n",
        "\n",
        "i = 1\n",
        "\n",
        "while i<=5:\n",
        "  print(i)\n",
        "  i+=1"
      ],
      "metadata": {
        "colab": {
          "base_uri": "https://localhost:8080/"
        },
        "id": "dbsPI5cJyiuF",
        "outputId": "0f183e73-5504-43bf-b9a2-3e278ed80117"
      },
      "execution_count": null,
      "outputs": [
        {
          "output_type": "stream",
          "name": "stdout",
          "text": [
            "1\n",
            "2\n",
            "3\n",
            "4\n",
            "5\n"
          ]
        }
      ]
    },
    {
      "cell_type": "code",
      "source": [
        "#Application 4: Create a Python program that displays numbers from 1 to 4\n",
        "\n",
        "j = 1\n",
        "\n",
        "while j<=4:\n",
        "  print(j)\n",
        "  j+=1"
      ],
      "metadata": {
        "colab": {
          "base_uri": "https://localhost:8080/"
        },
        "id": "l1qSSwDYyrEF",
        "outputId": "ac51b906-715a-43d3-90fe-7b2b0a03c1d7"
      },
      "execution_count": null,
      "outputs": [
        {
          "output_type": "stream",
          "name": "stdout",
          "text": [
            "1\n",
            "2\n",
            "3\n",
            "4\n"
          ]
        }
      ]
    },
    {
      "cell_type": "code",
      "source": [
        "#Application 5: Create a Python program that displays number 4 using while and break statement\n",
        "\n",
        "j = 1\n",
        "\n",
        "while j<=4:\n",
        "  j+=1\n",
        "  \n",
        "  if j==4:\n",
        "    print(j)"
      ],
      "metadata": {
        "colab": {
          "base_uri": "https://localhost:8080/"
        },
        "id": "Bn8zqJYMy9bD",
        "outputId": "10b8b956-c05b-4c13-dcf5-e576d4407441"
      },
      "execution_count": null,
      "outputs": [
        {
          "output_type": "stream",
          "name": "stdout",
          "text": [
            "4\n"
          ]
        }
      ]
    }
  ]
}