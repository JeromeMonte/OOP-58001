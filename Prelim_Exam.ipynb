{
  "nbformat": 4,
  "nbformat_minor": 0,
  "metadata": {
    "colab": {
      "name": "Prelim Exam",
      "provenance": [],
      "authorship_tag": "ABX9TyMKe5UM+JkGpHb+5LAmzza/",
      "include_colab_link": true
    },
    "kernelspec": {
      "name": "python3",
      "display_name": "Python 3"
    },
    "language_info": {
      "name": "python"
    }
  },
  "cells": [
    {
      "cell_type": "markdown",
      "metadata": {
        "id": "view-in-github",
        "colab_type": "text"
      },
      "source": [
        "<a href=\"https://colab.research.google.com/github/momonts/OOP-58001/blob/main/Prelim_Exam.ipynb\" target=\"_parent\"><img src=\"https://colab.research.google.com/assets/colab-badge.svg\" alt=\"Open In Colab\"/></a>"
      ]
    },
    {
      "cell_type": "code",
      "execution_count": 39,
      "metadata": {
        "colab": {
          "base_uri": "https://localhost:8080/"
        },
        "id": "EfkxM2pyJiV-",
        "outputId": "1e122b06-c8f9-4f26-a560-2f5c23803295"
      },
      "outputs": [
        {
          "output_type": "stream",
          "name": "stdout",
          "text": [
            "Name :  Monte, Jerome P.\n",
            "Student No. :  202117435\n",
            "Age :  19\n",
            "School :  Adamson University\n",
            "Course :  BS Computer Engineering\n"
          ]
        }
      ],
      "source": [
        "class student():\n",
        "\n",
        "  def __init__(self, name, student_no, age, school, course):\n",
        "    self.name = name\n",
        "    self.student_no = student_no\n",
        "    self.age = age\n",
        "    self.school = school\n",
        "    self.course = course\n",
        "    \n",
        "Myself = student(\"Monte, Jerome P.\", 202117435, 19, \"Adamson University\", \"BS Computer Engineering\")\n",
        "\n",
        "print(\"Name : \", Myself.name)\n",
        "print(\"Student No. : \", Myself.student_no)\n",
        "print(\"Age : \", Myself.age)\n",
        "print(\"School : \", Myself.school)\n",
        "print(\"Course : \", Myself.course)"
      ]
    }
  ]
}